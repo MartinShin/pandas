{
 "cells": [
  {
   "cell_type": "code",
   "execution_count": 1,
   "id": "89301f0a",
   "metadata": {},
   "outputs": [
    {
     "data": {
      "text/plain": [
       "{'이름': ['채치수', '정대만', '신호철', '송진영', '김태권', '김현지', '이상은', '강백호'],\n",
       " '학교': ['북산고', '북산고', '시사고', '쿠팡고', '서울고', '동아고', '한경고', '북산고'],\n",
       " '국어': [40, 30, 0, 100, 100, 100, 100, 50],\n",
       " 'SW특기': ['Python',\n",
       "  'Java',\n",
       "  'nothing',\n",
       "  'everything',\n",
       "  'Manga',\n",
       "  'Python',\n",
       "  'Python',\n",
       "  'C']}"
      ]
     },
     "execution_count": 1,
     "metadata": {},
     "output_type": "execute_result"
    }
   ],
   "source": [
    "data = {\n",
    "    '이름': ['채치수','정대만','신호철','송진영','김태권','김현지','이상은','강백호'],\n",
    "    '학교':['북산고','북산고','시사고','쿠팡고','서울고','동아고','한경고','북산고'],\n",
    "    '국어':[40,30,0,100,100,100,100,50],\n",
    "    'SW특기':['Python','Java','nothing','everything','Manga','Python','Python','C'],\n",
    "    '영어':[10,5,0,100,100,100,100,3],\n",
    "    '자녀':[0,0,0,0,2,3,2,0]\n",
    "}\n",
    "data"
   ]
  },
  {
   "cell_type": "code",
   "execution_count": 2,
   "id": "c14b249a",
   "metadata": {},
   "outputs": [
    {
     "data": {
      "text/plain": [
       "['채치수', '정대만', '신호철', '송진영', '김태권', '김현지', '이상은', '강백호']"
      ]
     },
     "execution_count": 2,
     "metadata": {},
     "output_type": "execute_result"
    }
   ],
   "source": [
    "data['이름']"
   ]
  },
  {
   "cell_type": "code",
   "execution_count": 3,
   "id": "3b9e46ec",
   "metadata": {},
   "outputs": [
    {
     "data": {
      "text/plain": [
       "[40, 30, 0, 100, 100, 100, 100, 50]"
      ]
     },
     "execution_count": 3,
     "metadata": {},
     "output_type": "execute_result"
    }
   ],
   "source": [
    "data['국어']"
   ]
  },
  {
   "cell_type": "markdown",
   "id": "48432673",
   "metadata": {},
   "source": [
    "# DataFrame 객체 생성"
   ]
  },
  {
   "cell_type": "code",
   "execution_count": 4,
   "id": "80f01ee0",
   "metadata": {},
   "outputs": [],
   "source": [
    "import pandas as pd\n",
    "df=pd.DataFrame(data)"
   ]
  },
  {
   "cell_type": "code",
   "execution_count": 5,
   "id": "2890ad91",
   "metadata": {},
   "outputs": [
    {
     "data": {
      "text/html": [
       "<div>\n",
       "<style scoped>\n",
       "    .dataframe tbody tr th:only-of-type {\n",
       "        vertical-align: middle;\n",
       "    }\n",
       "\n",
       "    .dataframe tbody tr th {\n",
       "        vertical-align: top;\n",
       "    }\n",
       "\n",
       "    .dataframe thead th {\n",
       "        text-align: right;\n",
       "    }\n",
       "</style>\n",
       "<table border=\"1\" class=\"dataframe\">\n",
       "  <thead>\n",
       "    <tr style=\"text-align: right;\">\n",
       "      <th></th>\n",
       "      <th>이름</th>\n",
       "      <th>학교</th>\n",
       "      <th>국어</th>\n",
       "      <th>SW특기</th>\n",
       "    </tr>\n",
       "  </thead>\n",
       "  <tbody>\n",
       "    <tr>\n",
       "      <th>0</th>\n",
       "      <td>채치수</td>\n",
       "      <td>북산고</td>\n",
       "      <td>40</td>\n",
       "      <td>Python</td>\n",
       "    </tr>\n",
       "    <tr>\n",
       "      <th>1</th>\n",
       "      <td>정대만</td>\n",
       "      <td>북산고</td>\n",
       "      <td>30</td>\n",
       "      <td>Java</td>\n",
       "    </tr>\n",
       "    <tr>\n",
       "      <th>2</th>\n",
       "      <td>신호철</td>\n",
       "      <td>시사고</td>\n",
       "      <td>0</td>\n",
       "      <td>nothing</td>\n",
       "    </tr>\n",
       "    <tr>\n",
       "      <th>3</th>\n",
       "      <td>송진영</td>\n",
       "      <td>쿠팡고</td>\n",
       "      <td>100</td>\n",
       "      <td>everything</td>\n",
       "    </tr>\n",
       "    <tr>\n",
       "      <th>4</th>\n",
       "      <td>김태권</td>\n",
       "      <td>서울고</td>\n",
       "      <td>100</td>\n",
       "      <td>Manga</td>\n",
       "    </tr>\n",
       "    <tr>\n",
       "      <th>5</th>\n",
       "      <td>김현지</td>\n",
       "      <td>동아고</td>\n",
       "      <td>100</td>\n",
       "      <td>Python</td>\n",
       "    </tr>\n",
       "    <tr>\n",
       "      <th>6</th>\n",
       "      <td>이상은</td>\n",
       "      <td>한경고</td>\n",
       "      <td>100</td>\n",
       "      <td>Python</td>\n",
       "    </tr>\n",
       "    <tr>\n",
       "      <th>7</th>\n",
       "      <td>강백호</td>\n",
       "      <td>북산고</td>\n",
       "      <td>50</td>\n",
       "      <td>C</td>\n",
       "    </tr>\n",
       "  </tbody>\n",
       "</table>\n",
       "</div>"
      ],
      "text/plain": [
       "    이름   학교   국어        SW특기\n",
       "0  채치수  북산고   40      Python\n",
       "1  정대만  북산고   30        Java\n",
       "2  신호철  시사고    0     nothing\n",
       "3  송진영  쿠팡고  100  everything\n",
       "4  김태권  서울고  100       Manga\n",
       "5  김현지  동아고  100      Python\n",
       "6  이상은  한경고  100      Python\n",
       "7  강백호  북산고   50           C"
      ]
     },
     "execution_count": 5,
     "metadata": {},
     "output_type": "execute_result"
    }
   ],
   "source": [
    "df"
   ]
  },
  {
   "cell_type": "markdown",
   "id": "e5407dc7",
   "metadata": {},
   "source": [
    "# 데이터 접근"
   ]
  },
  {
   "cell_type": "code",
   "execution_count": 6,
   "id": "9bf1eb7f",
   "metadata": {},
   "outputs": [
    {
     "data": {
      "text/plain": [
       "0    채치수\n",
       "1    정대만\n",
       "2    신호철\n",
       "3    송진영\n",
       "4    김태권\n",
       "5    김현지\n",
       "6    이상은\n",
       "7    강백호\n",
       "Name: 이름, dtype: object"
      ]
     },
     "execution_count": 6,
     "metadata": {},
     "output_type": "execute_result"
    }
   ],
   "source": [
    "df['이름']"
   ]
  },
  {
   "cell_type": "code",
   "execution_count": 7,
   "id": "ec2f8ac9",
   "metadata": {},
   "outputs": [
    {
     "data": {
      "text/plain": [
       "0     40\n",
       "1     30\n",
       "2      0\n",
       "3    100\n",
       "4    100\n",
       "5    100\n",
       "6    100\n",
       "7     50\n",
       "Name: 국어, dtype: int64"
      ]
     },
     "execution_count": 7,
     "metadata": {},
     "output_type": "execute_result"
    }
   ],
   "source": [
    "df['국어']"
   ]
  },
  {
   "cell_type": "code",
   "execution_count": 9,
   "id": "792c2094",
   "metadata": {
    "scrolled": true
   },
   "outputs": [
    {
     "data": {
      "text/html": [
       "<div>\n",
       "<style scoped>\n",
       "    .dataframe tbody tr th:only-of-type {\n",
       "        vertical-align: middle;\n",
       "    }\n",
       "\n",
       "    .dataframe tbody tr th {\n",
       "        vertical-align: top;\n",
       "    }\n",
       "\n",
       "    .dataframe thead th {\n",
       "        text-align: right;\n",
       "    }\n",
       "</style>\n",
       "<table border=\"1\" class=\"dataframe\">\n",
       "  <thead>\n",
       "    <tr style=\"text-align: right;\">\n",
       "      <th></th>\n",
       "      <th>이름</th>\n",
       "      <th>학교</th>\n",
       "    </tr>\n",
       "  </thead>\n",
       "  <tbody>\n",
       "    <tr>\n",
       "      <th>0</th>\n",
       "      <td>채치수</td>\n",
       "      <td>북산고</td>\n",
       "    </tr>\n",
       "    <tr>\n",
       "      <th>1</th>\n",
       "      <td>정대만</td>\n",
       "      <td>북산고</td>\n",
       "    </tr>\n",
       "    <tr>\n",
       "      <th>2</th>\n",
       "      <td>신호철</td>\n",
       "      <td>시사고</td>\n",
       "    </tr>\n",
       "    <tr>\n",
       "      <th>3</th>\n",
       "      <td>송진영</td>\n",
       "      <td>쿠팡고</td>\n",
       "    </tr>\n",
       "    <tr>\n",
       "      <th>4</th>\n",
       "      <td>김태권</td>\n",
       "      <td>서울고</td>\n",
       "    </tr>\n",
       "    <tr>\n",
       "      <th>5</th>\n",
       "      <td>김현지</td>\n",
       "      <td>동아고</td>\n",
       "    </tr>\n",
       "    <tr>\n",
       "      <th>6</th>\n",
       "      <td>이상은</td>\n",
       "      <td>한경고</td>\n",
       "    </tr>\n",
       "    <tr>\n",
       "      <th>7</th>\n",
       "      <td>강백호</td>\n",
       "      <td>북산고</td>\n",
       "    </tr>\n",
       "  </tbody>\n",
       "</table>\n",
       "</div>"
      ],
      "text/plain": [
       "    이름   학교\n",
       "0  채치수  북산고\n",
       "1  정대만  북산고\n",
       "2  신호철  시사고\n",
       "3  송진영  쿠팡고\n",
       "4  김태권  서울고\n",
       "5  김현지  동아고\n",
       "6  이상은  한경고\n",
       "7  강백호  북산고"
      ]
     },
     "execution_count": 9,
     "metadata": {},
     "output_type": "execute_result"
    }
   ],
   "source": [
    "df[['이름','학교']]"
   ]
  },
  {
   "cell_type": "markdown",
   "id": "3a08f426",
   "metadata": {},
   "source": [
    "# DataFrame 객체 생성 (Index 지정)"
   ]
  },
  {
   "cell_type": "code",
   "execution_count": 12,
   "id": "d10940fd",
   "metadata": {
    "scrolled": true
   },
   "outputs": [
    {
     "data": {
      "text/html": [
       "<div>\n",
       "<style scoped>\n",
       "    .dataframe tbody tr th:only-of-type {\n",
       "        vertical-align: middle;\n",
       "    }\n",
       "\n",
       "    .dataframe tbody tr th {\n",
       "        vertical-align: top;\n",
       "    }\n",
       "\n",
       "    .dataframe thead th {\n",
       "        text-align: right;\n",
       "    }\n",
       "</style>\n",
       "<table border=\"1\" class=\"dataframe\">\n",
       "  <thead>\n",
       "    <tr style=\"text-align: right;\">\n",
       "      <th></th>\n",
       "      <th>이름</th>\n",
       "      <th>학교</th>\n",
       "      <th>국어</th>\n",
       "      <th>SW특기</th>\n",
       "    </tr>\n",
       "  </thead>\n",
       "  <tbody>\n",
       "    <tr>\n",
       "      <th>1번</th>\n",
       "      <td>채치수</td>\n",
       "      <td>북산고</td>\n",
       "      <td>40</td>\n",
       "      <td>Python</td>\n",
       "    </tr>\n",
       "    <tr>\n",
       "      <th>2번</th>\n",
       "      <td>정대만</td>\n",
       "      <td>북산고</td>\n",
       "      <td>30</td>\n",
       "      <td>Java</td>\n",
       "    </tr>\n",
       "    <tr>\n",
       "      <th>3번</th>\n",
       "      <td>신호철</td>\n",
       "      <td>시사고</td>\n",
       "      <td>0</td>\n",
       "      <td>nothing</td>\n",
       "    </tr>\n",
       "    <tr>\n",
       "      <th>4번</th>\n",
       "      <td>송진영</td>\n",
       "      <td>쿠팡고</td>\n",
       "      <td>100</td>\n",
       "      <td>everything</td>\n",
       "    </tr>\n",
       "    <tr>\n",
       "      <th>5번</th>\n",
       "      <td>김태권</td>\n",
       "      <td>서울고</td>\n",
       "      <td>100</td>\n",
       "      <td>Manga</td>\n",
       "    </tr>\n",
       "    <tr>\n",
       "      <th>6번</th>\n",
       "      <td>김현지</td>\n",
       "      <td>동아고</td>\n",
       "      <td>100</td>\n",
       "      <td>Python</td>\n",
       "    </tr>\n",
       "    <tr>\n",
       "      <th>7번</th>\n",
       "      <td>이상은</td>\n",
       "      <td>한경고</td>\n",
       "      <td>100</td>\n",
       "      <td>Python</td>\n",
       "    </tr>\n",
       "    <tr>\n",
       "      <th>8번</th>\n",
       "      <td>강백호</td>\n",
       "      <td>북산고</td>\n",
       "      <td>50</td>\n",
       "      <td>C</td>\n",
       "    </tr>\n",
       "  </tbody>\n",
       "</table>\n",
       "</div>"
      ],
      "text/plain": [
       "     이름   학교   국어        SW특기\n",
       "1번  채치수  북산고   40      Python\n",
       "2번  정대만  북산고   30        Java\n",
       "3번  신호철  시사고    0     nothing\n",
       "4번  송진영  쿠팡고  100  everything\n",
       "5번  김태권  서울고  100       Manga\n",
       "6번  김현지  동아고  100      Python\n",
       "7번  이상은  한경고  100      Python\n",
       "8번  강백호  북산고   50           C"
      ]
     },
     "execution_count": 12,
     "metadata": {},
     "output_type": "execute_result"
    }
   ],
   "source": [
    "df=pd.DataFrame(data, index=['1번','2번','3번','4번','5번','6번','7번','8번'])\n",
    "df"
   ]
  },
  {
   "cell_type": "markdown",
   "id": "25189802",
   "metadata": {},
   "source": [
    "## DataFrame 객체 (Column 지정)"
   ]
  },
  {
   "cell_type": "code",
   "execution_count": null,
   "id": "60c676bf",
   "metadata": {},
   "outputs": [],
   "source": [
    "df=pd.DataFrame(data, columns=['이름','ㅎ'])"
   ]
  }
 ],
 "metadata": {
  "kernelspec": {
   "display_name": "Python 3 (ipykernel)",
   "language": "python",
   "name": "python3"
  },
  "language_info": {
   "codemirror_mode": {
    "name": "ipython",
    "version": 3
   },
   "file_extension": ".py",
   "mimetype": "text/x-python",
   "name": "python",
   "nbconvert_exporter": "python",
   "pygments_lexer": "ipython3",
   "version": "3.11.5"
  }
 },
 "nbformat": 4,
 "nbformat_minor": 5
}
